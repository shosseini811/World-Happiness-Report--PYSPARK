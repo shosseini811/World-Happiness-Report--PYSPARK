{
 "cells": [
  {
   "cell_type": "code",
   "execution_count": 1,
   "metadata": {},
   "outputs": [],
   "source": [
    "import numpy as np # linear algebra\n",
    "import pandas as pd # data processing, CSV file I/O (e.g. pd.read_csv)"
   ]
  },
  {
   "cell_type": "code",
   "execution_count": 2,
   "metadata": {},
   "outputs": [],
   "source": [
    "from pyspark.sql import SparkSession\n",
    "spark = SparkSession.builder.appName('World Happiness Report Pyspark').getOrCreate()"
   ]
  },
  {
   "cell_type": "code",
   "execution_count": 21,
   "metadata": {},
   "outputs": [],
   "source": [
    "from pyspark.ml.regression import LinearRegression\n",
    "from pyspark.ml.stat import Correlation\n"
   ]
  },
  {
   "cell_type": "code",
   "execution_count": 41,
   "metadata": {},
   "outputs": [],
   "source": [
    "report2017 = spark.read.csv('2017.csv', inferSchema = True, header = True)"
   ]
  },
  {
   "cell_type": "code",
   "execution_count": 42,
   "metadata": {},
   "outputs": [
    {
     "name": "stdout",
     "output_type": "stream",
     "text": [
      "root\n",
      " |-- Country: string (nullable = true)\n",
      " |-- Happiness.Rank: integer (nullable = true)\n",
      " |-- Happiness.Score: double (nullable = true)\n",
      " |-- Whisker.high: double (nullable = true)\n",
      " |-- Whisker.low: double (nullable = true)\n",
      " |-- Economy..GDP.per.Capita.: double (nullable = true)\n",
      " |-- Family: double (nullable = true)\n",
      " |-- Health..Life.Expectancy.: double (nullable = true)\n",
      " |-- Freedom: double (nullable = true)\n",
      " |-- Generosity: double (nullable = true)\n",
      " |-- Trust..Government.Corruption.: double (nullable = true)\n",
      " |-- Dystopia.Residual: double (nullable = true)\n",
      "\n"
     ]
    }
   ],
   "source": [
    "report2017.printSchema()\n"
   ]
  },
  {
   "cell_type": "code",
   "execution_count": 43,
   "metadata": {},
   "outputs": [],
   "source": [
    "from pyspark.ml.feature import VectorAssembler\n"
   ]
  },
  {
   "cell_type": "code",
   "execution_count": 44,
   "metadata": {},
   "outputs": [
    {
     "data": {
      "text/plain": [
       "['Country',\n",
       " 'Happiness.Rank',\n",
       " 'Happiness.Score',\n",
       " 'Whisker.high',\n",
       " 'Whisker.low',\n",
       " 'Economy..GDP.per.Capita.',\n",
       " 'Family',\n",
       " 'Health..Life.Expectancy.',\n",
       " 'Freedom',\n",
       " 'Generosity',\n",
       " 'Trust..Government.Corruption.',\n",
       " 'Dystopia.Residual']"
      ]
     },
     "execution_count": 44,
     "metadata": {},
     "output_type": "execute_result"
    }
   ],
   "source": [
    "report2017.columns"
   ]
  },
  {
   "cell_type": "code",
   "execution_count": 45,
   "metadata": {},
   "outputs": [],
   "source": [
    "#Change columns names\n",
    "new_column_name_list= list(map(lambda x: x.replace(\".\", \"\"), report2017.columns))\n",
    "\n",
    "report2017 = report2017.toDF(*new_column_name_list)"
   ]
  },
  {
   "cell_type": "code",
   "execution_count": 47,
   "metadata": {},
   "outputs": [
    {
     "data": {
      "text/plain": [
       "['Country',\n",
       " 'HappinessRank',\n",
       " 'HappinessScore',\n",
       " 'Whiskerhigh',\n",
       " 'Whiskerlow',\n",
       " 'EconomyGDPperCapita',\n",
       " 'Family',\n",
       " 'HealthLifeExpectancy',\n",
       " 'Freedom',\n",
       " 'Generosity',\n",
       " 'TrustGovernmentCorruption',\n",
       " 'DystopiaResidual']"
      ]
     },
     "execution_count": 47,
     "metadata": {},
     "output_type": "execute_result"
    }
   ],
   "source": [
    "report2017.columns"
   ]
  },
  {
   "cell_type": "code",
   "execution_count": 48,
   "metadata": {},
   "outputs": [],
   "source": [
    "assembler = VectorAssembler(\n",
    " inputCols=[ 'HappinessRank',\n",
    " 'HappinessScore',\n",
    " 'Whiskerhigh',\n",
    " 'Whiskerlow',\n",
    " 'EconomyGDPperCapita',\n",
    " 'Family',\n",
    " 'HealthLifeExpectancy',\n",
    " 'Freedom',\n",
    " 'Generosity',\n",
    " 'TrustGovernmentCorruption',\n",
    " 'DystopiaResidual'],\n",
    "              outputCol=\"features\")"
   ]
  },
  {
   "cell_type": "code",
   "execution_count": 49,
   "metadata": {},
   "outputs": [],
   "source": [
    "output = assembler.transform(report2017)\n"
   ]
  },
  {
   "cell_type": "code",
   "execution_count": 72,
   "metadata": {},
   "outputs": [
    {
     "name": "stdout",
     "output_type": "stream",
     "text": [
      "Pearson correlation matrix:\n",
      "DenseMatrix([[ 1.        , -0.99277447, -0.99305849, -0.99153348, -0.81324364,\n",
      "              -0.73675268, -0.78071584, -0.55160784, -0.13261979, -0.40584233,\n",
      "              -0.48450596],\n",
      "             [-0.99277447,  1.        ,  0.99949742,  0.99952041,  0.81246875,\n",
      "               0.75273667,  0.78195062,  0.57013719,  0.15525584,  0.42907974,\n",
      "               0.47535512],\n",
      "             [-0.99305849,  0.99949742,  1.        ,  0.99803641,  0.81186758,\n",
      "               0.75093422,  0.7766345 ,  0.56990738,  0.15546203,  0.42645891,\n",
      "               0.47882363],\n",
      "             [-0.99153348,  0.99952041,  0.99803641,  1.        ,  0.81226748,\n",
      "               0.75376686,  0.78638485,  0.56980835,  0.15490374,  0.43122349,\n",
      "               0.4715055 ],\n",
      "             [-0.81324364,  0.81246875,  0.81186758,  0.81226748,  1.        ,\n",
      "               0.68829631,  0.84307664,  0.36987339, -0.01901125,  0.3509441 ,\n",
      "               0.02422642],\n",
      "             [-0.73675268,  0.75273667,  0.75093422,  0.75376686,  0.68829631,\n",
      "               1.        ,  0.61208006,  0.42496576,  0.05169263,  0.23184139,\n",
      "               0.07050576],\n",
      "             [-0.78071584,  0.78195062,  0.7766345 ,  0.78638485,  0.84307664,\n",
      "               0.61208006,  1.        ,  0.34982679,  0.06319149,  0.27975198,\n",
      "               0.05496328],\n",
      "             [-0.55160784,  0.57013719,  0.56990738,  0.56980835,  0.36987339,\n",
      "               0.42496576,  0.34982679,  1.        ,  0.31608271,  0.49918279,\n",
      "               0.08192597],\n",
      "             [-0.13261979,  0.15525584,  0.15546203,  0.15490374, -0.01901125,\n",
      "               0.05169263,  0.06319149,  0.31608271,  1.        ,  0.29415945,\n",
      "              -0.11662674],\n",
      "             [-0.40584233,  0.42907974,  0.42645891,  0.43122349,  0.3509441 ,\n",
      "               0.23184139,  0.27975198,  0.49918279,  0.29415945,  1.        ,\n",
      "              -0.02275506],\n",
      "             [-0.48450596,  0.47535512,  0.47882363,  0.4715055 ,  0.02422642,\n",
      "               0.07050576,  0.05496328,  0.08192597, -0.11662674, -0.02275506,\n",
      "               1.        ]])\n"
     ]
    }
   ],
   "source": [
    "from pyspark.ml.linalg import Vectors\n",
    "\n",
    "r1 = Correlation.corr(output, \"features\").head()\n",
    "print(\"Pearson correlation matrix:\\n\" + str(r1[0]))\n"
   ]
  },
  {
   "cell_type": "code",
   "execution_count": 73,
   "metadata": {},
   "outputs": [],
   "source": [
    "#Remove redundant features\n",
    "\n",
    "assembler = VectorAssembler(\n",
    " inputCols=[ 'EconomyGDPperCapita',\n",
    " 'Family',\n",
    " 'HealthLifeExpectancy',\n",
    " 'Freedom',\n",
    " 'Generosity',\n",
    " 'TrustGovernmentCorruption',\n",
    " 'DystopiaResidual'],\n",
    "              outputCol=\"features\")\n",
    "\n",
    "output2 = assembler.transform(report2017)\n"
   ]
  },
  {
   "cell_type": "code",
   "execution_count": 79,
   "metadata": {},
   "outputs": [
    {
     "name": "stdout",
     "output_type": "stream",
     "text": [
      "+-------+-------------+----------------+----------------+----------------+-------------------+----------------+--------------------+-----------------+----------------+-------------------------+----------------+--------------------+--------------------+\n",
      "|Country|HappinessRank|  HappinessScore|     Whiskerhigh|      Whiskerlow|EconomyGDPperCapita|          Family|HealthLifeExpectancy|          Freedom|      Generosity|TrustGovernmentCorruption|DystopiaResidual|            features|      scaledFeatures|\n",
      "+-------+-------------+----------------+----------------+----------------+-------------------+----------------+--------------------+-----------------+----------------+-------------------------+----------------+--------------------+--------------------+\n",
      "| Norway|            1|7.53700017929077|7.59444482058287|7.47955553799868|   1.61646318435669|1.53352355957031|   0.796666502952576|0.635422587394714|0.36201223731041|        0.315963834524155|2.27702665328979|[1.61646318435669...|[3.84147146102685...|\n",
      "+-------+-------------+----------------+----------------+----------------+-------------------+----------------+--------------------+-----------------+----------------+-------------------------+----------------+--------------------+--------------------+\n",
      "only showing top 1 row\n",
      "\n"
     ]
    }
   ],
   "source": [
    "#Scale variables\n",
    "from pyspark.ml.feature import StandardScaler\n",
    "\n",
    "scaler = StandardScaler(inputCol=\"features\", outputCol=\"scaledFeatures\",\n",
    "                        withStd=True, withMean=False)\n",
    "\n",
    "scalerModel = scaler.fit(output2)\n",
    "\n",
    "# Normalize each feature to have unit standard deviation.\n",
    "scaledData = scalerModel.transform(output2)\n",
    "scaledData.show(1)"
   ]
  },
  {
   "cell_type": "code",
   "execution_count": 81,
   "metadata": {},
   "outputs": [
    {
     "data": {
      "text/plain": [
       "['Country',\n",
       " 'HappinessRank',\n",
       " 'HappinessScore',\n",
       " 'Whiskerhigh',\n",
       " 'Whiskerlow',\n",
       " 'EconomyGDPperCapita',\n",
       " 'Family',\n",
       " 'HealthLifeExpectancy',\n",
       " 'Freedom',\n",
       " 'Generosity',\n",
       " 'TrustGovernmentCorruption',\n",
       " 'DystopiaResidual',\n",
       " 'features',\n",
       " 'scaledFeatures']"
      ]
     },
     "execution_count": 81,
     "metadata": {},
     "output_type": "execute_result"
    }
   ],
   "source": [
    "scaledData.columns"
   ]
  },
  {
   "cell_type": "code",
   "execution_count": 82,
   "metadata": {},
   "outputs": [],
   "source": [
    "final_data = scaledData.select(\"scaledFeatures\",'HappinessScore')\n"
   ]
  },
  {
   "cell_type": "code",
   "execution_count": 83,
   "metadata": {},
   "outputs": [],
   "source": [
    "train, test = final_data.randomSplit([0.7,0.3])\n"
   ]
  },
  {
   "cell_type": "code",
   "execution_count": 84,
   "metadata": {},
   "outputs": [],
   "source": [
    "lr = LinearRegression(featuresCol='scaledFeatures', labelCol='HappinessScore', predictionCol='prediction')\n"
   ]
  },
  {
   "cell_type": "code",
   "execution_count": 85,
   "metadata": {},
   "outputs": [],
   "source": [
    "# Fit the model\n",
    "lrModel = lr.fit(train)"
   ]
  },
  {
   "cell_type": "code",
   "execution_count": 86,
   "metadata": {},
   "outputs": [
    {
     "name": "stdout",
     "output_type": "stream",
     "text": [
      "Coefficients: [0.4208607647467514,0.28722967051271053,0.23701843570281034,0.1500160990794907,0.13478428755879313,0.10162394719435851,0.4999816428689854]\n",
      "\n",
      "\n",
      "Intercept:0.0002821469314831961\n"
     ]
    }
   ],
   "source": [
    "# Print the coefficients and intercept for linear regression\n",
    "print(\"Coefficients: {}\".format(str(lrModel.coefficients))) # For each feature...\n",
    "print('\\n')\n",
    "print(\"Intercept:{}\".format(str(lrModel.intercept)))"
   ]
  },
  {
   "cell_type": "code",
   "execution_count": 87,
   "metadata": {},
   "outputs": [],
   "source": [
    "Summary = lrModel.summary"
   ]
  },
  {
   "cell_type": "code",
   "execution_count": 88,
   "metadata": {},
   "outputs": [
    {
     "name": "stdout",
     "output_type": "stream",
     "text": [
      "+--------------------+\n",
      "|           residuals|\n",
      "+--------------------+\n",
      "|-1.67518984090175...|\n",
      "|-3.03916198370224...|\n",
      "|4.497230400510865...|\n",
      "| -6.7970652792404E-5|\n",
      "|2.298365759227927...|\n",
      "|-3.03472493346390...|\n",
      "|2.820236007536891...|\n",
      "|-1.37305955437483...|\n",
      "|4.200553357867065E-4|\n",
      "|-4.15374973223414...|\n",
      "|-2.23626906370455...|\n",
      "|2.178133167749507...|\n",
      "|3.839437495845033E-4|\n",
      "|-2.00241139603818...|\n",
      "|1.853253925951925...|\n",
      "| 9.86530050846035E-5|\n",
      "|-3.26259385607041...|\n",
      "|-1.70805778044957...|\n",
      "|1.649976054629576E-4|\n",
      "|-2.12853158926051...|\n",
      "+--------------------+\n",
      "only showing top 20 rows\n",
      "\n",
      "RMSE: 0.00027110357125753354\n",
      "r2: 0.9999999397692348\n"
     ]
    }
   ],
   "source": [
    "Summary.residuals.show()\n",
    "print(\"RMSE: {}\".format(Summary.rootMeanSquaredError))\n",
    "print(\"r2: {}\".format(Summary.r2))"
   ]
  },
  {
   "cell_type": "code",
   "execution_count": 90,
   "metadata": {},
   "outputs": [],
   "source": [
    "test_results = lrModel.evaluate(test)"
   ]
  },
  {
   "cell_type": "code",
   "execution_count": 91,
   "metadata": {},
   "outputs": [
    {
     "name": "stdout",
     "output_type": "stream",
     "text": [
      "+--------------------+\n",
      "|           residuals|\n",
      "+--------------------+\n",
      "|2.528941710808752E-4|\n",
      "|3.720344258706376E-4|\n",
      "| 2.78248546647486E-4|\n",
      "|1.762437286978446...|\n",
      "|2.595077600009432...|\n",
      "|-3.40717166289472...|\n",
      "|1.753933555210807E-4|\n",
      "|-3.10578546397266...|\n",
      "|-1.27355973703835...|\n",
      "|3.911131027063419E-4|\n",
      "|-8.33403515629882...|\n",
      "|5.216971777377566E-4|\n",
      "|-3.41186228018486...|\n",
      "|-3.12695691278008...|\n",
      "|-8.31132354051078...|\n",
      "|3.286486491269613...|\n",
      "|3.565681952055755E-4|\n",
      "|3.861736630259571E-4|\n",
      "|-1.40175087866012...|\n",
      "|-2.70359668100184...|\n",
      "+--------------------+\n",
      "only showing top 20 rows\n",
      "\n",
      "RMSE: 0.0003087989388196993\n"
     ]
    }
   ],
   "source": [
    "test_results.residuals.show()\n",
    "print(\"RMSE: {}\".format(test_results.rootMeanSquaredError))"
   ]
  },
  {
   "cell_type": "code",
   "execution_count": 92,
   "metadata": {},
   "outputs": [],
   "source": [
    "unlabeled_data = test.select('scaledFeatures')"
   ]
  },
  {
   "cell_type": "code",
   "execution_count": 93,
   "metadata": {},
   "outputs": [],
   "source": [
    "predictions = lrModel.transform(unlabeled_data)"
   ]
  },
  {
   "cell_type": "code",
   "execution_count": 94,
   "metadata": {},
   "outputs": [
    {
     "name": "stdout",
     "output_type": "stream",
     "text": [
      "+--------------------+------------------+\n",
      "|      scaledFeatures|        prediction|\n",
      "+--------------------+------------------+\n",
      "|[0.55681965189602...| 4.549747296563779|\n",
      "|[0.58116484578800...|3.5066279350565495|\n",
      "|[0.72587930006475...|3.4947216370124323|\n",
      "|[0.72674427646559...| 3.643823809677062|\n",
      "|[0.80617804884618...|  4.45997408737097|\n",
      "|[0.90645751876715...|   4.0813405683931|\n",
      "|[1.14027686574806...| 4.961824499832959|\n",
      "|[1.23818981462933...|3.8083106662844375|\n",
      "|[1.39423274718889...| 4.608127157609444|\n",
      "|[1.51239972793849...| 4.513608825862134|\n",
      "|[1.72741474434877...| 5.269083393757323|\n",
      "|[1.73618292648071...| 5.180478535518792|\n",
      "|[1.75216724842509...| 6.071341285410148|\n",
      "|[1.84687880016634...| 3.462031162757608|\n",
      "|[1.88268767580868...| 4.315000140333695|\n",
      "|[2.07228387372530...| 6.453671347536173|\n",
      "|[2.10416285413059...| 5.010643588207384|\n",
      "|[2.12611086008845...| 4.095614020886534|\n",
      "|[2.16207285773018...| 6.003139957650126|\n",
      "|[2.35510828057311...|  5.33627032533582|\n",
      "+--------------------+------------------+\n",
      "only showing top 20 rows\n",
      "\n"
     ]
    }
   ],
   "source": [
    "predictions.show()"
   ]
  },
  {
   "cell_type": "code",
   "execution_count": null,
   "metadata": {},
   "outputs": [],
   "source": []
  }
 ],
 "metadata": {
  "kernelspec": {
   "display_name": "Python 3",
   "language": "python",
   "name": "python3"
  },
  "language_info": {
   "codemirror_mode": {
    "name": "ipython",
    "version": 3
   },
   "file_extension": ".py",
   "mimetype": "text/x-python",
   "name": "python",
   "nbconvert_exporter": "python",
   "pygments_lexer": "ipython3",
   "version": "3.7.3"
  }
 },
 "nbformat": 4,
 "nbformat_minor": 2
}
